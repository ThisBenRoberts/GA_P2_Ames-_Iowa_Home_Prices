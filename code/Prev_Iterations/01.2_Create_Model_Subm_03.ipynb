{
 "cells": [
  {
   "cell_type": "code",
   "execution_count": 20,
   "id": "c43f6f4e-6562-4091-8b29-3255ec482660",
   "metadata": {},
   "outputs": [],
   "source": [
    "import matplotlib.pyplot as plt\n",
    "import pandas as pd\n",
    "import numpy as np\n",
    "import os\n",
    "import seaborn as sns\n",
    "from scipy import stats\n",
    "from sklearn.linear_model import LinearRegression\n",
    "from sklearn.model_selection import train_test_split, cross_val_score\n",
    "\n",
    "pd.options.display.max_columns = 999  # Allos us to display all columns\n",
    "pd.options.display.max_rows = 999  # Allos us to display all columns\n",
    "\n",
    "df_train = pd.read_csv('./datasets/cleaned_train.csv',keep_default_na=False)\n",
    "df_test = pd.read_csv('./datasets/test.csv')\n",
    "\n",
    "df_test.columns = df_test.columns.str.lower() # column names to lower case"
   ]
  },
  {
   "cell_type": "code",
   "execution_count": 21,
   "id": "3d97538d-9df7-4001-98a3-1cc563f83dac",
   "metadata": {},
   "outputs": [],
   "source": [
    "features = ['overall qual','gr liv area','garage area','garage cars']\n",
    "X = df_train[features]\n",
    "y=df_train['saleprice']"
   ]
  },
  {
   "cell_type": "code",
   "execution_count": 22,
   "id": "96f3cc8d-d2b5-481c-8c3c-5623744f5f2a",
   "metadata": {},
   "outputs": [
    {
     "name": "stdout",
     "output_type": "stream",
     "text": [
      "0.7462840227642047 0.7936845992081178\n"
     ]
    },
    {
     "data": {
      "text/plain": [
       "0.7347149648697073"
      ]
     },
     "execution_count": 22,
     "metadata": {},
     "output_type": "execute_result"
    }
   ],
   "source": [
    "X_train, X_test, y_train, y_test = train_test_split(X,y, random_state=42) \n",
    "print( model.score(X_train, y_train), model.score(X_test, y_test))\n",
    "\n",
    "cross_val_score(model, X_train, y_train).mean()"
   ]
  },
  {
   "cell_type": "code",
   "execution_count": 23,
   "id": "8d1211ae-6b51-4182-a588-36b96ca7bf43",
   "metadata": {},
   "outputs": [
    {
     "data": {
      "text/plain": [
       "LinearRegression()"
      ]
     },
     "execution_count": 23,
     "metadata": {},
     "output_type": "execute_result"
    }
   ],
   "source": [
    "model = LinearRegression()\n",
    "model.fit(X,y)"
   ]
  },
  {
   "cell_type": "code",
   "execution_count": 24,
   "id": "718c9922-5f6d-49e6-8c84-cce3b919488e",
   "metadata": {},
   "outputs": [],
   "source": [
    "pred = model.predict(df_test[features])   # make predictions\n",
    "df_test['saleprice'] = pred               # add predictions to the test data"
   ]
  },
  {
   "cell_type": "code",
   "execution_count": 25,
   "id": "d1bae036-52b0-46e5-8ba9-1d1d8c70d101",
   "metadata": {},
   "outputs": [],
   "source": [
    "submission = df_test[['id','saleprice']]"
   ]
  },
  {
   "cell_type": "code",
   "execution_count": 26,
   "id": "ecb69927-2cbf-44e1-bf11-463a3c862134",
   "metadata": {},
   "outputs": [],
   "source": [
    "submission.set_index('id', inplace = True)"
   ]
  },
  {
   "cell_type": "code",
   "execution_count": 28,
   "id": "1ad22946-02c0-43ca-969d-46a05f5111d9",
   "metadata": {},
   "outputs": [],
   "source": [
    "submission.to_csv('./datasets/submissions/submission3.csv')"
   ]
  },
  {
   "cell_type": "code",
   "execution_count": 455,
   "id": "a8cf38b0-9df0-4c43-b01a-7eb1a6e51fed",
   "metadata": {},
   "outputs": [],
   "source": [
    "#  bring in the test file\n",
    "\n",
    "# make all of the changes to the test\n",
    "\n",
    "##  pred = model.predict(  \"\" DF_TEST[features] \"\")\n",
    "\n",
    "## DF_TEST['salesprice'] = pred\n",
    "\n",
    "## name submission file\n",
    "\n",
    "# submission = df_test[['Id','saleprice']]\n",
    "\n",
    "# submission.set_index('Id', inplace = True)\n",
    "\n",
    "# submission.head()\n",
    "\n",
    "# submission.to_csv('./datasets/submission.csv')"
   ]
  },
  {
   "cell_type": "code",
   "execution_count": null,
   "id": "531d0eef-83e0-4a0a-adfc-0820f1772617",
   "metadata": {},
   "outputs": [],
   "source": []
  },
  {
   "cell_type": "code",
   "execution_count": null,
   "id": "6d1c4a84-63b6-44ed-a108-4e0278a065f0",
   "metadata": {},
   "outputs": [],
   "source": []
  },
  {
   "cell_type": "code",
   "execution_count": null,
   "id": "1671b864-f6ed-4b0f-b4c3-b46488fe63e4",
   "metadata": {},
   "outputs": [],
   "source": []
  }
 ],
 "metadata": {
  "kernelspec": {
   "display_name": "Python 3 (ipykernel)",
   "language": "python",
   "name": "python3"
  },
  "language_info": {
   "codemirror_mode": {
    "name": "ipython",
    "version": 3
   },
   "file_extension": ".py",
   "mimetype": "text/x-python",
   "name": "python",
   "nbconvert_exporter": "python",
   "pygments_lexer": "ipython3",
   "version": "3.9.7"
  }
 },
 "nbformat": 4,
 "nbformat_minor": 5
}
