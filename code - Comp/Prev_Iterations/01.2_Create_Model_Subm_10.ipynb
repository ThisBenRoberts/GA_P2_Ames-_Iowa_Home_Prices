{
 "cells": [
  {
   "cell_type": "code",
   "execution_count": 181,
   "id": "c43f6f4e-6562-4091-8b29-3255ec482660",
   "metadata": {},
   "outputs": [],
   "source": [
    "import matplotlib.pyplot as plt\n",
    "import pandas as pd\n",
    "import numpy as np\n",
    "import os\n",
    "import seaborn as sns\n",
    "from scipy import stats\n",
    "from sklearn import metrics\n",
    "from sklearn.linear_model import LinearRegression\n",
    "from sklearn.model_selection import train_test_split, cross_val_score\n",
    "\n",
    "pd.options.display.max_columns = 999  # Allos us to display all columns\n",
    "pd.options.display.max_rows = 999  # Allos us to display all columns\n",
    "\n",
    "df_train = pd.read_csv('./datasets/cleaned_train.csv',keep_default_na=False)\n",
    "df_test = pd.read_csv('./datasets/cleaned_test.csv',keep_default_na=False)\n",
    "\n",
    "df_test.columns = df_test.columns.str.lower() # column names to lower case"
   ]
  },
  {
   "cell_type": "code",
   "execution_count": null,
   "id": "5837714e-39a3-4817-b955-810254c8672a",
   "metadata": {},
   "outputs": [],
   "source": []
  },
  {
   "cell_type": "code",
   "execution_count": 182,
   "id": "d009c03f-7729-45b2-88e1-2efcf416ebaa",
   "metadata": {},
   "outputs": [
    {
     "data": {
      "text/plain": [
       "5    1868\n",
       "4     140\n",
       "3      35\n",
       "2       7\n",
       "1       1\n",
       "Name: electrical, dtype: int64"
      ]
     },
     "execution_count": 182,
     "metadata": {},
     "output_type": "execute_result"
    }
   ],
   "source": [
    "df_train['electrical'].value_counts()"
   ]
  },
  {
   "cell_type": "code",
   "execution_count": 183,
   "id": "5b9e3b8a-91dd-42d4-a8a4-5b6dbb1b0502",
   "metadata": {},
   "outputs": [
    {
     "data": {
      "text/plain": [
       "5.0    813\n",
       "4.0     48\n",
       "3.0     15\n",
       "2.0      1\n",
       "0.0      1\n",
       "Name: electrical, dtype: int64"
      ]
     },
     "execution_count": 183,
     "metadata": {},
     "output_type": "execute_result"
    }
   ],
   "source": [
    "df_test['electrical'].value_counts()"
   ]
  },
  {
   "cell_type": "code",
   "execution_count": 184,
   "id": "c5748d71-d1fb-4dfb-9ab9-ec60445b32a6",
   "metadata": {},
   "outputs": [
    {
     "data": {
      "text/html": [
       "<div>\n",
       "<style scoped>\n",
       "    .dataframe tbody tr th:only-of-type {\n",
       "        vertical-align: middle;\n",
       "    }\n",
       "\n",
       "    .dataframe tbody tr th {\n",
       "        vertical-align: top;\n",
       "    }\n",
       "\n",
       "    .dataframe thead th {\n",
       "        text-align: right;\n",
       "    }\n",
       "</style>\n",
       "<table border=\"1\" class=\"dataframe\">\n",
       "  <thead>\n",
       "    <tr style=\"text-align: right;\">\n",
       "      <th></th>\n",
       "      <th>id</th>\n",
       "      <th>pid</th>\n",
       "      <th>ms subclass</th>\n",
       "      <th>lot frontage</th>\n",
       "      <th>lot area</th>\n",
       "      <th>street</th>\n",
       "      <th>lot shape</th>\n",
       "      <th>utilities</th>\n",
       "      <th>land slope</th>\n",
       "      <th>overall qual</th>\n",
       "      <th>overall cond</th>\n",
       "      <th>year built</th>\n",
       "      <th>year remod/add</th>\n",
       "      <th>mas vnr area</th>\n",
       "      <th>exter qual</th>\n",
       "      <th>exter cond</th>\n",
       "      <th>bsmt qual</th>\n",
       "      <th>bsmt cond</th>\n",
       "      <th>bsmtfin type 1</th>\n",
       "      <th>bsmtfin sf 1</th>\n",
       "      <th>bsmtfin type 2</th>\n",
       "      <th>bsmtfin sf 2</th>\n",
       "      <th>bsmt unf sf</th>\n",
       "      <th>total bsmt sf</th>\n",
       "      <th>heating qc</th>\n",
       "      <th>central air</th>\n",
       "      <th>electrical</th>\n",
       "      <th>1st flr sf</th>\n",
       "      <th>2nd flr sf</th>\n",
       "      <th>low qual fin sf</th>\n",
       "      <th>gr liv area</th>\n",
       "      <th>bsmt full bath</th>\n",
       "      <th>bsmt half bath</th>\n",
       "      <th>full bath</th>\n",
       "      <th>half bath</th>\n",
       "      <th>bedroom abvgr</th>\n",
       "      <th>kitchen abvgr</th>\n",
       "      <th>kitchen qual</th>\n",
       "      <th>totrms abvgrd</th>\n",
       "      <th>functional</th>\n",
       "      <th>fireplaces</th>\n",
       "      <th>fireplace qu</th>\n",
       "      <th>garage yr blt</th>\n",
       "      <th>garage finish</th>\n",
       "      <th>garage cars</th>\n",
       "      <th>garage area</th>\n",
       "      <th>garage qual</th>\n",
       "      <th>garage cond</th>\n",
       "      <th>paved drive</th>\n",
       "      <th>wood deck sf</th>\n",
       "      <th>open porch sf</th>\n",
       "      <th>enclosed porch</th>\n",
       "      <th>3ssn porch</th>\n",
       "      <th>screen porch</th>\n",
       "      <th>pool area</th>\n",
       "      <th>pool qc</th>\n",
       "      <th>fence</th>\n",
       "      <th>misc feature</th>\n",
       "      <th>misc val</th>\n",
       "      <th>mo sold</th>\n",
       "      <th>yr sold</th>\n",
       "      <th>neighborhood_blmngtn</th>\n",
       "      <th>neighborhood_blueste</th>\n",
       "      <th>neighborhood_brdale</th>\n",
       "      <th>neighborhood_brkside</th>\n",
       "      <th>neighborhood_clearcr</th>\n",
       "      <th>neighborhood_collgcr</th>\n",
       "      <th>neighborhood_crawfor</th>\n",
       "      <th>neighborhood_edwards</th>\n",
       "      <th>neighborhood_gilbert</th>\n",
       "      <th>neighborhood_greens</th>\n",
       "      <th>neighborhood_idotrr</th>\n",
       "      <th>neighborhood_meadowv</th>\n",
       "      <th>neighborhood_mitchel</th>\n",
       "      <th>neighborhood_names</th>\n",
       "      <th>neighborhood_npkvill</th>\n",
       "      <th>neighborhood_nwames</th>\n",
       "      <th>neighborhood_noridge</th>\n",
       "      <th>neighborhood_nridght</th>\n",
       "      <th>neighborhood_oldtown</th>\n",
       "      <th>neighborhood_swisu</th>\n",
       "      <th>neighborhood_sawyer</th>\n",
       "      <th>neighborhood_sawyerw</th>\n",
       "      <th>neighborhood_somerst</th>\n",
       "      <th>neighborhood_stonebr</th>\n",
       "      <th>neighborhood_timber</th>\n",
       "      <th>neighborhood_veenker</th>\n",
       "      <th>condition 1_artery</th>\n",
       "      <th>condition 1_feedr</th>\n",
       "      <th>condition 1_norm</th>\n",
       "      <th>condition 1_posa</th>\n",
       "      <th>condition 1_posn</th>\n",
       "      <th>condition 1_rrae</th>\n",
       "      <th>condition 1_rran</th>\n",
       "      <th>condition 1_rrne</th>\n",
       "      <th>condition 1_rrnn</th>\n",
       "      <th>condition 2_feedr</th>\n",
       "      <th>condition 2_norm</th>\n",
       "      <th>condition 2_posa</th>\n",
       "      <th>bldg type_1fam</th>\n",
       "      <th>bldg type_2fmcon</th>\n",
       "      <th>bldg type_duplex</th>\n",
       "      <th>bldg type_twnhs</th>\n",
       "      <th>bldg type_twnhse</th>\n",
       "      <th>house style_1.5fin</th>\n",
       "      <th>house style_1.5unf</th>\n",
       "      <th>house style_1story</th>\n",
       "      <th>house style_2.5fin</th>\n",
       "      <th>house style_2.5unf</th>\n",
       "      <th>house style_2story</th>\n",
       "      <th>house style_sfoyer</th>\n",
       "      <th>house style_slvl</th>\n",
       "      <th>alley_grvl</th>\n",
       "      <th>alley_na</th>\n",
       "      <th>alley_pave</th>\n",
       "      <th>bsmt exposure_av</th>\n",
       "      <th>bsmt exposure_gd</th>\n",
       "      <th>bsmt exposure_mn</th>\n",
       "      <th>bsmt exposure_na</th>\n",
       "      <th>bsmt exposure_no</th>\n",
       "      <th>exterior 1st_asbshng</th>\n",
       "      <th>exterior 1st_asphshn</th>\n",
       "      <th>exterior 1st_brkcomm</th>\n",
       "      <th>exterior 1st_brkface</th>\n",
       "      <th>exterior 1st_cemntbd</th>\n",
       "      <th>exterior 1st_hdboard</th>\n",
       "      <th>exterior 1st_metalsd</th>\n",
       "      <th>exterior 1st_plywood</th>\n",
       "      <th>exterior 1st_precast</th>\n",
       "      <th>exterior 1st_stucco</th>\n",
       "      <th>exterior 1st_vinylsd</th>\n",
       "      <th>exterior 1st_wd sdng</th>\n",
       "      <th>exterior 1st_wdshing</th>\n",
       "      <th>exterior 2nd_asbshng</th>\n",
       "      <th>exterior 2nd_asphshn</th>\n",
       "      <th>exterior 2nd_brk cmn</th>\n",
       "      <th>exterior 2nd_brkface</th>\n",
       "      <th>exterior 2nd_cblock</th>\n",
       "      <th>exterior 2nd_cmentbd</th>\n",
       "      <th>exterior 2nd_hdboard</th>\n",
       "      <th>exterior 2nd_imstucc</th>\n",
       "      <th>exterior 2nd_metalsd</th>\n",
       "      <th>exterior 2nd_other</th>\n",
       "      <th>exterior 2nd_plywood</th>\n",
       "      <th>exterior 2nd_precast</th>\n",
       "      <th>exterior 2nd_stucco</th>\n",
       "      <th>exterior 2nd_vinylsd</th>\n",
       "      <th>exterior 2nd_wd sdng</th>\n",
       "      <th>exterior 2nd_wd shng</th>\n",
       "      <th>foundation_brktil</th>\n",
       "      <th>foundation_cblock</th>\n",
       "      <th>foundation_pconc</th>\n",
       "      <th>foundation_slab</th>\n",
       "      <th>foundation_stone</th>\n",
       "      <th>foundation_wood</th>\n",
       "      <th>garage type_2types</th>\n",
       "      <th>garage type_attchd</th>\n",
       "      <th>garage type_basment</th>\n",
       "      <th>garage type_builtin</th>\n",
       "      <th>garage type_carport</th>\n",
       "      <th>garage type_detchd</th>\n",
       "      <th>garage type_na</th>\n",
       "      <th>heating_floor</th>\n",
       "      <th>heating_gasa</th>\n",
       "      <th>heating_gasw</th>\n",
       "      <th>heating_grav</th>\n",
       "      <th>land contour_bnk</th>\n",
       "      <th>land contour_hls</th>\n",
       "      <th>land contour_low</th>\n",
       "      <th>land contour_lvl</th>\n",
       "      <th>roof matl_compshg</th>\n",
       "      <th>roof matl_metal</th>\n",
       "      <th>roof matl_roll</th>\n",
       "      <th>roof matl_tar&amp;grv</th>\n",
       "      <th>roof matl_wdshake</th>\n",
       "      <th>roof matl_wdshngl</th>\n",
       "      <th>roof style_flat</th>\n",
       "      <th>roof style_gable</th>\n",
       "      <th>roof style_gambrel</th>\n",
       "      <th>roof style_hip</th>\n",
       "      <th>roof style_mansard</th>\n",
       "      <th>roof style_shed</th>\n",
       "      <th>sale type_cod</th>\n",
       "      <th>sale type_cwd</th>\n",
       "      <th>sale type_con</th>\n",
       "      <th>sale type_conld</th>\n",
       "      <th>sale type_conli</th>\n",
       "      <th>sale type_conlw</th>\n",
       "      <th>sale type_new</th>\n",
       "      <th>sale type_oth</th>\n",
       "      <th>sale type_vwd</th>\n",
       "      <th>sale type_wd</th>\n",
       "      <th>mas vnr type_brkcmn</th>\n",
       "      <th>mas vnr type_brkface</th>\n",
       "      <th>mas vnr type_cblock</th>\n",
       "      <th>mas vnr type_none</th>\n",
       "      <th>mas vnr type_stone</th>\n",
       "      <th>ms zoning_c (all)</th>\n",
       "      <th>ms zoning_fv</th>\n",
       "      <th>ms zoning_i (all)</th>\n",
       "      <th>ms zoning_rh</th>\n",
       "      <th>ms zoning_rl</th>\n",
       "      <th>ms zoning_rm</th>\n",
       "      <th>lot config_corner</th>\n",
       "      <th>lot config_culdsac</th>\n",
       "      <th>lot config_fr2</th>\n",
       "      <th>lot config_fr3</th>\n",
       "      <th>lot config_inside</th>\n",
       "    </tr>\n",
       "  </thead>\n",
       "  <tbody>\n",
       "  </tbody>\n",
       "</table>\n",
       "</div>"
      ],
      "text/plain": [
       "Empty DataFrame\n",
       "Columns: [id, pid, ms subclass, lot frontage, lot area, street, lot shape, utilities, land slope, overall qual, overall cond, year built, year remod/add, mas vnr area, exter qual, exter cond, bsmt qual, bsmt cond, bsmtfin type 1, bsmtfin sf 1, bsmtfin type 2, bsmtfin sf 2, bsmt unf sf, total bsmt sf, heating qc, central air, electrical, 1st flr sf, 2nd flr sf, low qual fin sf, gr liv area, bsmt full bath, bsmt half bath, full bath, half bath, bedroom abvgr, kitchen abvgr, kitchen qual, totrms abvgrd, functional, fireplaces, fireplace qu, garage yr blt, garage finish, garage cars, garage area, garage qual, garage cond, paved drive, wood deck sf, open porch sf, enclosed porch, 3ssn porch, screen porch, pool area, pool qc, fence, misc feature, misc val, mo sold, yr sold, neighborhood_blmngtn, neighborhood_blueste, neighborhood_brdale, neighborhood_brkside, neighborhood_clearcr, neighborhood_collgcr, neighborhood_crawfor, neighborhood_edwards, neighborhood_gilbert, neighborhood_greens, neighborhood_idotrr, neighborhood_meadowv, neighborhood_mitchel, neighborhood_names, neighborhood_npkvill, neighborhood_nwames, neighborhood_noridge, neighborhood_nridght, neighborhood_oldtown, neighborhood_swisu, neighborhood_sawyer, neighborhood_sawyerw, neighborhood_somerst, neighborhood_stonebr, neighborhood_timber, neighborhood_veenker, condition 1_artery, condition 1_feedr, condition 1_norm, condition 1_posa, condition 1_posn, condition 1_rrae, condition 1_rran, condition 1_rrne, condition 1_rrnn, condition 2_feedr, condition 2_norm, condition 2_posa, bldg type_1fam, ...]\n",
       "Index: []"
      ]
     },
     "execution_count": 184,
     "metadata": {},
     "output_type": "execute_result"
    }
   ],
   "source": [
    "df_test[df_test['electrical']=='']"
   ]
  },
  {
   "cell_type": "code",
   "execution_count": null,
   "id": "e47f3136-b1b7-4e0c-8734-cadc8b4c27de",
   "metadata": {},
   "outputs": [],
   "source": []
  },
  {
   "cell_type": "code",
   "execution_count": 256,
   "id": "3d97538d-9df7-4001-98a3-1cc563f83dac",
   "metadata": {},
   "outputs": [],
   "source": [
    "features = [\n",
    "    'overall qual','exter qual','gr liv area','kitchen qual','garage area',\n",
    "    'garage cars','1st flr sf','bsmt qual','year built','garage finish',\n",
    "    'year remod/add','fireplace qu','full bath','foundation_pconc','totrms abvgrd','mas vnr area',\n",
    "    'fireplaces','heating qc','neighborhood_nridght','bsmtfin sf 1','bsmt exposure_gd','sale type_new','garage type_attchd',\n",
    "    'exterior 1st_vinylsd','exterior 2nd_vinylsd','open porch sf','wood deck sf','lot frontage','mas vnr type_stone',\n",
    "    'lot area','paved drive','garage qual','bsmt full bath','half bath','central air','roof style_hip','garage cond',\n",
    "   'neighborhood_noridge','mas vnr type_brkface','neighborhood_stonebr',\n",
    "    'mas vnr type_none','garage type_detchd',\n",
    "    '2nd flr sf',\n",
    "    'electrical',\n",
    "    'ms zoning_rl','bsmt cond',\n",
    "    'garage type_builtin','land contour_hls','house style_2story',\n",
    "     'bsmt unf sf','exterior 1st_cemntbd','lot config_culdsac','exterior 2nd_cmentbd','neighborhood_somerst','bedroom abvgr',\n",
    "     'alley_na','screen porch','bsmt exposure_av','functional','neighborhood_timber','condition 1_norm','condition 1_posn',\n",
    "    \n",
    "    'ms zoning_fv','bldg type_1fam','condition 2_posa','roof matl_wdshngl','heating_gasa',\n",
    "    'neighborhood_veenker','neighborhood_collgcr','condition 1_posa','street','bldg type_twnhse','land slope',\n",
    "    'neighborhood_crawfor','neighborhood_clearcr','3ssn porch','roof matl_wdshake','exterior 2nd_imstucc',\n",
    "    \n",
    "    'house style_2.5fin','exter cond','neighborhood_nwames','sale type_con','land contour_low','mo sold',\n",
    "    #'bsmt exposure_mn','pool qc','utilities','exterior 1st_brkface','neighborhood_blmngtn','neighborhood_gilbert',\n",
    "    # 'pool area','exterior 1st_imstucc','sale type_conli','roof matl_membran','neighborhood_sawyerw','bsmtfin sf 2',\n",
    "    # 'lot config_fr3','roof style_shed',\n",
    "    \n",
    "    \n",
    "    #### negative coors\n",
    "    'foundation_cblock','lot shape','bsmt exposure_no','ms zoning_rm','pid','roof style_gable','garage type_na',\n",
    "    'foundation_brktil','neighborhood_oldtown','house style_1.5fin','exterior 1st_wd sdng',\n",
    "    'neighborhood_names','neighborhood_idotrr','neighborhood_edwards','exterior 2nd_wd sdng','alley_grvl',\n",
    "    'fence','bsmt exposure_na','exterior 1st_metalsd','exterior 2nd_metalsd','enclosed porch','neighborhood_brkside',\n",
    "    'neighborhood_sawyer','exterior 1st_asbshng','ms zoning_c (all)','kitchen abvgr','condition 1_artery',\n",
    "    'foundation_slab','condition 1_feedr','exterior 1st_hdboard','bldg type_twnhs',\n",
    "    'bldg type_2fmcon','exterior 2nd_asbshng','sale type_cod','bldg type_duplex','exterior 2nd_hdboard','land contour_bnk',\n",
    "     'overall cond','neighborhood_brdale','land contour_lvl','ms subclass','lot config_inside','neighborhood_swisu']\n",
    "\n",
    "\n",
    "\n",
    "\n",
    "# ,'heating_grav','garage type_carport','roof matl_compshg'\n",
    "# ,'house style_1.5unf','house style_sfoyer',\n",
    "#     'exterior 2nd_wd shng','exterior 1st_stucco']\n",
    "# 'sale type_conld','exterior 2nd_plywood','garage type_basment','condition 1_rrae',\n",
    "#     'exterior 2nd_stucco','id','exterior 1st_wdshing','condition 2_feedr','exterior 2nd_brk cmn',\n",
    "#     'neighborhood_npkvill','bsmt half bath'\n",
    "# ,'house style_slvl','roof style_gambrel','low qual fin sf','exterior 1st_plywood',\n",
    "#     'condition 2_artery','heating_gasw','mas vnr type_brkcmn','neighborhood_mitchel','sale type_conlw','exterior 2nd_cblock',\n",
    "#     'exterior 1st_cblock','ms zoning_i (all)','ms zoning_rh']\n",
    "\n",
    "\n",
    "X = df_train[features]\n",
    "y=df_train['saleprice']"
   ]
  },
  {
   "cell_type": "code",
   "execution_count": 257,
   "id": "6beb3fb1-88ea-44cb-9fee-9d77611c4150",
   "metadata": {},
   "outputs": [
    {
     "data": {
      "text/plain": [
       "LinearRegression()"
      ]
     },
     "execution_count": 257,
     "metadata": {},
     "output_type": "execute_result"
    }
   ],
   "source": [
    "model = LinearRegression()\n",
    "model.fit(X,y)"
   ]
  },
  {
   "cell_type": "code",
   "execution_count": 258,
   "id": "96f3cc8d-d2b5-481c-8c3c-5623744f5f2a",
   "metadata": {},
   "outputs": [
    {
     "name": "stdout",
     "output_type": "stream",
     "text": [
      "0.8877303917722793\n",
      "0.9154836097954397\n"
     ]
    },
    {
     "data": {
      "text/plain": [
       "0.8449271805059585"
      ]
     },
     "execution_count": 258,
     "metadata": {},
     "output_type": "execute_result"
    }
   ],
   "source": [
    "X_train, X_test, y_train, y_test = train_test_split(X,y, random_state=42) \n",
    "print( model.score(X_train, y_train))\n",
    "print( model.score(X_test, y_test))\n",
    "\n",
    "cross_val_score(model, X_train, y_train).mean()"
   ]
  },
  {
   "cell_type": "code",
   "execution_count": 254,
   "id": "04160c96-c219-4f8d-8505-ee427ecca805",
   "metadata": {},
   "outputs": [
    {
     "data": {
      "text/plain": [
       "0.8442579805223513"
      ]
     },
     "execution_count": 254,
     "metadata": {},
     "output_type": "execute_result"
    }
   ],
   "source": [
    "0.8934689139456496\n",
    "0.9157827829566405\n",
    "0.8442579805223513"
   ]
  },
  {
   "cell_type": "code",
   "execution_count": 255,
   "id": "a4867038-a527-4a47-bd97-751388f33f5c",
   "metadata": {},
   "outputs": [
    {
     "ename": "KeyError",
     "evalue": "\"['exterior 1st_stone'] not in index\"",
     "output_type": "error",
     "traceback": [
      "\u001b[1;31m---------------------------------------------------------------------------\u001b[0m",
      "\u001b[1;31mKeyError\u001b[0m                                  Traceback (most recent call last)",
      "\u001b[1;32m~\\AppData\\Local\\Temp/ipykernel_25596/3797755573.py\u001b[0m in \u001b[0;36m<module>\u001b[1;34m\u001b[0m\n\u001b[1;32m----> 1\u001b[1;33m \u001b[0mpred\u001b[0m \u001b[1;33m=\u001b[0m \u001b[0mmodel\u001b[0m\u001b[1;33m.\u001b[0m\u001b[0mpredict\u001b[0m\u001b[1;33m(\u001b[0m\u001b[0mdf_test\u001b[0m\u001b[1;33m[\u001b[0m\u001b[0mfeatures\u001b[0m\u001b[1;33m]\u001b[0m\u001b[1;33m)\u001b[0m   \u001b[1;31m# make predictions\u001b[0m\u001b[1;33m\u001b[0m\u001b[1;33m\u001b[0m\u001b[0m\n\u001b[0m\u001b[0;32m      2\u001b[0m \u001b[0mdf_test\u001b[0m\u001b[1;33m[\u001b[0m\u001b[1;34m'saleprice'\u001b[0m\u001b[1;33m]\u001b[0m \u001b[1;33m=\u001b[0m \u001b[0mpred\u001b[0m               \u001b[1;31m# add predictions to the test data\u001b[0m\u001b[1;33m\u001b[0m\u001b[1;33m\u001b[0m\u001b[0m\n",
      "\u001b[1;32m~\\anaconda3\\lib\\site-packages\\pandas\\core\\frame.py\u001b[0m in \u001b[0;36m__getitem__\u001b[1;34m(self, key)\u001b[0m\n\u001b[0;32m   3462\u001b[0m             \u001b[1;32mif\u001b[0m \u001b[0mis_iterator\u001b[0m\u001b[1;33m(\u001b[0m\u001b[0mkey\u001b[0m\u001b[1;33m)\u001b[0m\u001b[1;33m:\u001b[0m\u001b[1;33m\u001b[0m\u001b[1;33m\u001b[0m\u001b[0m\n\u001b[0;32m   3463\u001b[0m                 \u001b[0mkey\u001b[0m \u001b[1;33m=\u001b[0m \u001b[0mlist\u001b[0m\u001b[1;33m(\u001b[0m\u001b[0mkey\u001b[0m\u001b[1;33m)\u001b[0m\u001b[1;33m\u001b[0m\u001b[1;33m\u001b[0m\u001b[0m\n\u001b[1;32m-> 3464\u001b[1;33m             \u001b[0mindexer\u001b[0m \u001b[1;33m=\u001b[0m \u001b[0mself\u001b[0m\u001b[1;33m.\u001b[0m\u001b[0mloc\u001b[0m\u001b[1;33m.\u001b[0m\u001b[0m_get_listlike_indexer\u001b[0m\u001b[1;33m(\u001b[0m\u001b[0mkey\u001b[0m\u001b[1;33m,\u001b[0m \u001b[0maxis\u001b[0m\u001b[1;33m=\u001b[0m\u001b[1;36m1\u001b[0m\u001b[1;33m)\u001b[0m\u001b[1;33m[\u001b[0m\u001b[1;36m1\u001b[0m\u001b[1;33m]\u001b[0m\u001b[1;33m\u001b[0m\u001b[1;33m\u001b[0m\u001b[0m\n\u001b[0m\u001b[0;32m   3465\u001b[0m \u001b[1;33m\u001b[0m\u001b[0m\n\u001b[0;32m   3466\u001b[0m         \u001b[1;31m# take() does not accept boolean indexers\u001b[0m\u001b[1;33m\u001b[0m\u001b[1;33m\u001b[0m\u001b[0m\n",
      "\u001b[1;32m~\\anaconda3\\lib\\site-packages\\pandas\\core\\indexing.py\u001b[0m in \u001b[0;36m_get_listlike_indexer\u001b[1;34m(self, key, axis)\u001b[0m\n\u001b[0;32m   1312\u001b[0m             \u001b[0mkeyarr\u001b[0m\u001b[1;33m,\u001b[0m \u001b[0mindexer\u001b[0m\u001b[1;33m,\u001b[0m \u001b[0mnew_indexer\u001b[0m \u001b[1;33m=\u001b[0m \u001b[0max\u001b[0m\u001b[1;33m.\u001b[0m\u001b[0m_reindex_non_unique\u001b[0m\u001b[1;33m(\u001b[0m\u001b[0mkeyarr\u001b[0m\u001b[1;33m)\u001b[0m\u001b[1;33m\u001b[0m\u001b[1;33m\u001b[0m\u001b[0m\n\u001b[0;32m   1313\u001b[0m \u001b[1;33m\u001b[0m\u001b[0m\n\u001b[1;32m-> 1314\u001b[1;33m         \u001b[0mself\u001b[0m\u001b[1;33m.\u001b[0m\u001b[0m_validate_read_indexer\u001b[0m\u001b[1;33m(\u001b[0m\u001b[0mkeyarr\u001b[0m\u001b[1;33m,\u001b[0m \u001b[0mindexer\u001b[0m\u001b[1;33m,\u001b[0m \u001b[0maxis\u001b[0m\u001b[1;33m)\u001b[0m\u001b[1;33m\u001b[0m\u001b[1;33m\u001b[0m\u001b[0m\n\u001b[0m\u001b[0;32m   1315\u001b[0m \u001b[1;33m\u001b[0m\u001b[0m\n\u001b[0;32m   1316\u001b[0m         if needs_i8_conversion(ax.dtype) or isinstance(\n",
      "\u001b[1;32m~\\anaconda3\\lib\\site-packages\\pandas\\core\\indexing.py\u001b[0m in \u001b[0;36m_validate_read_indexer\u001b[1;34m(self, key, indexer, axis)\u001b[0m\n\u001b[0;32m   1375\u001b[0m \u001b[1;33m\u001b[0m\u001b[0m\n\u001b[0;32m   1376\u001b[0m             \u001b[0mnot_found\u001b[0m \u001b[1;33m=\u001b[0m \u001b[0mlist\u001b[0m\u001b[1;33m(\u001b[0m\u001b[0mensure_index\u001b[0m\u001b[1;33m(\u001b[0m\u001b[0mkey\u001b[0m\u001b[1;33m)\u001b[0m\u001b[1;33m[\u001b[0m\u001b[0mmissing_mask\u001b[0m\u001b[1;33m.\u001b[0m\u001b[0mnonzero\u001b[0m\u001b[1;33m(\u001b[0m\u001b[1;33m)\u001b[0m\u001b[1;33m[\u001b[0m\u001b[1;36m0\u001b[0m\u001b[1;33m]\u001b[0m\u001b[1;33m]\u001b[0m\u001b[1;33m.\u001b[0m\u001b[0munique\u001b[0m\u001b[1;33m(\u001b[0m\u001b[1;33m)\u001b[0m\u001b[1;33m)\u001b[0m\u001b[1;33m\u001b[0m\u001b[1;33m\u001b[0m\u001b[0m\n\u001b[1;32m-> 1377\u001b[1;33m             \u001b[1;32mraise\u001b[0m \u001b[0mKeyError\u001b[0m\u001b[1;33m(\u001b[0m\u001b[1;34mf\"{not_found} not in index\"\u001b[0m\u001b[1;33m)\u001b[0m\u001b[1;33m\u001b[0m\u001b[1;33m\u001b[0m\u001b[0m\n\u001b[0m\u001b[0;32m   1378\u001b[0m \u001b[1;33m\u001b[0m\u001b[0m\n\u001b[0;32m   1379\u001b[0m \u001b[1;33m\u001b[0m\u001b[0m\n",
      "\u001b[1;31mKeyError\u001b[0m: \"['exterior 1st_stone'] not in index\""
     ]
    }
   ],
   "source": [
    "pred = model.predict(df_test[features])   # make predictions\n",
    "df_test['saleprice'] = pred               # add predictions to the test data\n"
   ]
  },
  {
   "cell_type": "code",
   "execution_count": null,
   "id": "d4317bb6-216e-4e8b-a1c1-6c2acb33a77e",
   "metadata": {},
   "outputs": [],
   "source": []
  },
  {
   "cell_type": "code",
   "execution_count": 190,
   "id": "8d1211ae-6b51-4182-a588-36b96ca7bf43",
   "metadata": {},
   "outputs": [],
   "source": [
    "#  np.sqrt(metrics.mean_squared_error(y, pred)) "
   ]
  },
  {
   "cell_type": "code",
   "execution_count": null,
   "id": "718c9922-5f6d-49e6-8c84-cce3b919488e",
   "metadata": {},
   "outputs": [],
   "source": []
  },
  {
   "cell_type": "code",
   "execution_count": 191,
   "id": "d1bae036-52b0-46e5-8ba9-1d1d8c70d101",
   "metadata": {},
   "outputs": [],
   "source": [
    "submission = df_test[['id','saleprice']]"
   ]
  },
  {
   "cell_type": "code",
   "execution_count": 192,
   "id": "ecb69927-2cbf-44e1-bf11-463a3c862134",
   "metadata": {},
   "outputs": [],
   "source": [
    "submission.set_index('id', inplace = True)"
   ]
  },
  {
   "cell_type": "code",
   "execution_count": 193,
   "id": "1ad22946-02c0-43ca-969d-46a05f5111d9",
   "metadata": {},
   "outputs": [],
   "source": [
    "submission.to_csv('./datasets/submissions/submission10.csv')"
   ]
  },
  {
   "cell_type": "code",
   "execution_count": 455,
   "id": "a8cf38b0-9df0-4c43-b01a-7eb1a6e51fed",
   "metadata": {},
   "outputs": [],
   "source": []
  },
  {
   "cell_type": "code",
   "execution_count": null,
   "id": "531d0eef-83e0-4a0a-adfc-0820f1772617",
   "metadata": {},
   "outputs": [],
   "source": []
  },
  {
   "cell_type": "code",
   "execution_count": null,
   "id": "6d1c4a84-63b6-44ed-a108-4e0278a065f0",
   "metadata": {},
   "outputs": [],
   "source": []
  },
  {
   "cell_type": "code",
   "execution_count": null,
   "id": "1671b864-f6ed-4b0f-b4c3-b46488fe63e4",
   "metadata": {},
   "outputs": [],
   "source": []
  }
 ],
 "metadata": {
  "kernelspec": {
   "display_name": "Python 3 (ipykernel)",
   "language": "python",
   "name": "python3"
  },
  "language_info": {
   "codemirror_mode": {
    "name": "ipython",
    "version": 3
   },
   "file_extension": ".py",
   "mimetype": "text/x-python",
   "name": "python",
   "nbconvert_exporter": "python",
   "pygments_lexer": "ipython3",
   "version": "3.9.7"
  }
 },
 "nbformat": 4,
 "nbformat_minor": 5
}
