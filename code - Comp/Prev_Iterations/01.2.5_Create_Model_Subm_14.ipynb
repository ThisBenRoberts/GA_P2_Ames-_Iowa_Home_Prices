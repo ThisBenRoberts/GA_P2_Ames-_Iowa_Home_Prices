{
 "cells": [
  {
   "cell_type": "code",
   "execution_count": 23,
   "id": "c43f6f4e-6562-4091-8b29-3255ec482660",
   "metadata": {},
   "outputs": [],
   "source": [
    "import matplotlib.pyplot as plt\n",
    "import pandas as pd\n",
    "import numpy as np\n",
    "import os\n",
    "import seaborn as sns\n",
    "from scipy import stats\n",
    "from sklearn import metrics\n",
    "from sklearn.linear_model import LinearRegression\n",
    "from sklearn.model_selection import train_test_split, cross_val_score\n",
    "from sklearn.preprocessing import StandardScaler, PolynomialFeatures\n",
    "\n",
    "\n",
    "pd.options.display.max_columns = 999  # Allos us to display all columns\n",
    "pd.options.display.max_rows = 999  # Allos us to display all columns\n",
    "\n",
    "df_train = pd.read_csv('./datasets/cleaned_train4.csv',keep_default_na=False)\n",
    "df_test = pd.read_csv('./datasets/cleaned_test4.csv',keep_default_na=False)\n",
    "\n",
    "df_train.columns = df_train.columns.str.lower() # column names to lower case\n",
    "df_test.columns = df_test.columns.str.lower() # column names to lower case"
   ]
  },
  {
   "cell_type": "code",
   "execution_count": 24,
   "id": "e47f3136-b1b7-4e0c-8734-cadc8b4c27de",
   "metadata": {},
   "outputs": [],
   "source": [
    "df_train['base']=df_train['saleprice'].mean()"
   ]
  },
  {
   "cell_type": "code",
   "execution_count": 25,
   "id": "8cc35343-8a3b-41b9-8e88-a2bb23a2d61c",
   "metadata": {},
   "outputs": [
    {
     "name": "stdout",
     "output_type": "stream",
     "text": [
      "Mean Root Square Error w/ all cols: 79239.34.\n"
     ]
    }
   ],
   "source": [
    "df_train['base']=df_train['saleprice'].mean()\n",
    "MRSE = metrics.mean_squared_error(y_true=df_train['saleprice'], y_pred=df_train['base'] )**.5\n",
    "print(f'Mean Root Square Error w/ all cols: {round(MRSE,2)}.')"
   ]
  },
  {
   "cell_type": "code",
   "execution_count": 55,
   "id": "3d97538d-9df7-4001-98a3-1cc563f83dac",
   "metadata": {},
   "outputs": [],
   "source": [
    "features = [\n",
    " 'overall qual',\n",
    " 'exter qual',\n",
    " 'gr liv area',\n",
    " 'kitchen qual',\n",
    " 'garage area',\n",
    " 'garage cars',\n",
    " 'total bsmt sf',\n",
    " '1st flr sf',\n",
    " 'bsmt qual',\n",
    " 'year built',\n",
    " 'garage finish',\n",
    " 'year remod/add',\n",
    " 'fireplace qu',\n",
    " 'full bath',\n",
    " 'foundation_pconc',\n",
    " 'totrms abvgrd',\n",
    " 'mas vnr area',\n",
    " 'fireplaces',\n",
    " 'heating qc',\n",
    " 'neighborhood_nridght',\n",
    " 'bsmt exposure',\n",
    " 'bsmtfin sf 1',\n",
    " 'exteriors',\n",
    " 'exterior 1st',\n",
    " 'mas vnr type_0',\n",
    " 'exterior 2nd',\n",
    " 'garage type_1',\n",
    " 'sale type_new',\n",
    " 'garage type_5',\n",
    " 'foundation_cblock',\n",
    " 'bsmtfin type 1',\n",
    " 'open porch sf',\n",
    " 'wood deck sf',\n",
    " 'lot frontage',\n",
    " 'mas vnr type_1',\n",
    " 'lot area',\n",
    " 'lot shape',\n",
    " 'paved drive',\n",
    " 'garage qual',\n",
    " 'bsmt full bath',\n",
    " 'half bath',\n",
    " 'ms zoning_rm',\n",
    " 'central air',\n",
    " 'roof style_hip',\n",
    " 'garage cond',\n",
    " 'neighborhood_noridge',\n",
    " 'garage yr blt',\n",
    " 'mas vnr type_3',\n",
    " 'neighborhood_stonebr',\n",
    " 'pid',\n",
    " 'roof style_gable',\n",
    " '2nd flr sf',\n",
    " 'electrical',\n",
    " 'ms zoning_rl',\n",
    " 'garage type_0',\n",
    " 'foundation_brktil',\n",
    " 'bsmt cond',\n",
    " 'garage type_3',\n",
    " 'conditions',\n",
    " 'sale type_wd ',\n",
    " 'land contour_hls',\n",
    " 'neighborhood_oldtown',\n",
    " 'condition 1',\n",
    " 'house style_2story',\n",
    " 'house style_1.5fin',\n",
    " 'bsmt unf sf',\n",
    " 'neighborhood_names',\n",
    " 'neighborhood_idotrr',\n",
    " 'neighborhood_edwards',\n",
    " 'lot config_culdsac',\n",
    " 'alley_2',\n",
    " 'fence',\n",
    " 'neighborhood_somerst',\n",
    " 'bedroom abvgr',\n",
    " 'enclosed porch',\n",
    " 'alley_0',\n",
    " 'neighborhood_brkside',\n",
    " 'screen porch',\n",
    " 'neighborhood_sawyer',\n",
    " 'condition 2',\n",
    " 'ms zoning_c (all)',\n",
    " 'kitchen abvgr',\n",
    " 'foundation_slab',\n",
    " 'neighborhood_timber',\n",
    " 'functional',\n",
    " 'bldg type_twnhs',\n",
    " 'neighborhood_meadowv',\n",
    " 'bldg type_2fmcon',\n",
    " 'sale type_cod',\n",
    " 'ms zoning_fv',\n",
    " 'bldg type_1fam',\n",
    " 'bldg type_duplex',\n",
    " 'roof matl_wdshngl',\n",
    " 'land contour_bnk',\n",
    " 'overall cond',\n",
    " 'neighborhood_brdale',\n",
    " 'heating_gasa',\n",
    " 'land contour_lvl',\n",
    " 'ms subclass',\n",
    " 'neighborhood_veenker',\n",
    " 'neighborhood_collgcr',\n",
    " 'lot config_inside',\n",
    " 'neighborhood_swisu',\n",
    " 'heating_grav',\n",
    " 'garage type_2',\n",
    " ## 'heating_wall',\n",
    " 'street',\n",
    " 'roof matl_compshg',\n",
    " 'house style_1.5unf']\n",
    " # 'house style_sfoyer']\n",
    " # 'bldg type_twnhse',\n",
    " # 'sale type_conld']\n",
    " # 'neighborhood_crawfor',\n",
    " # 'land slope',\n",
    " # 'garage type_4',\n",
    "##  'ms zoning_a (agr)',\n",
    "#  'neighborhood_clearcr',\n",
    "#  'id',\n",
    "#  '3ssn porch',\n",
    "#  'misc feature_0',\n",
    "#  'misc feature_2',\n",
    "#  'neighborhood_npkvill',\n",
    "#  'roof matl_wdshake',\n",
    "#  'bsmt half bath',\n",
    "#  'house style_2.5fin',\n",
    "#  'house style_slvl',\n",
    "#  'roof style_gambrel',\n",
    "#  'low qual fin sf',\n",
    "# ##  'neighborhood_grnhill',\n",
    "#  'heating_gasw',\n",
    "#  'mas vnr type_4',\n",
    "#  'exter cond',\n",
    "#  'neighborhood_mitchel',\n",
    "#  'sale type_conlw',\n",
    "#  'neighborhood_nwames',\n",
    "#  'ms zoning_i (all)',\n",
    "#  'ms zoning_rh',\n",
    "#  'sale type_con',\n",
    "#  'land contour_low',\n",
    "#  'mo sold',\n",
    "#  'sale type_oth',\n",
    "#  'garage type_6',\n",
    "#  'pool qc',\n",
    "#  'utilities',\n",
    "#  'neighborhood_blueste',\n",
    "#  'neighborhood_blmngtn',\n",
    "#  'neighborhood_gilbert',\n",
    "#  'foundation_stone',\n",
    "#  'pool area',\n",
    "# ##  'heating_othw',\n",
    "#  'house style_1story',\n",
    "#  'roof style_mansard',\n",
    "#  'sale type_conli',\n",
    "#  'misc feature_4',\n",
    "# ##  'misc feature_1',\n",
    "# ##  'roof matl_membran',\n",
    "#  'neighborhood_sawyerw',\n",
    "#  'bsmtfin sf 2',\n",
    "#  'yr sold',\n",
    "#  'lot config_fr2',\n",
    "#  'alley_1',\n",
    "#  'lot config_fr3',\n",
    "#  'bsmtfin type 2',\n",
    "#  'roof style_shed',\n",
    "# ##  'neighborhood_landmrk',\n",
    "#  'house style_2.5unf',\n",
    "#  'roof style_flat',\n",
    "#  'misc feature_3',\n",
    "#  'misc val',\n",
    "#  'roof matl_tar&grv',\n",
    "# ##  'roof matl_clytile',\n",
    "#  'lot config_corner',\n",
    "#  'sale type_cwd',\n",
    "#  'neighborhood_greens',\n",
    "#  'foundation_wood']\n",
    "# ##  'misc feature_5']\n",
    "\n",
    "\n",
    "X = df_train[features]\n",
    "y=df_train['saleprice']\n",
    "\n"
   ]
  },
  {
   "cell_type": "code",
   "execution_count": 56,
   "id": "6beb3fb1-88ea-44cb-9fee-9d77611c4150",
   "metadata": {},
   "outputs": [
    {
     "name": "stdout",
     "output_type": "stream",
     "text": [
      "LR training R^2 score: 0.8846\n",
      "LR test R^2 score: 0.9111\n",
      "LR CrossVal score: 0.84017379\n",
      "Mean Root Square Error w/ all cols: 26150.7.\n"
     ]
    }
   ],
   "source": [
    "\n",
    "model = LinearRegression()\n",
    "model.fit(X,y)\n",
    "X_train, X_test, y_train, y_test = train_test_split(X,y, random_state=42) \n",
    "\n",
    "print(f'LR training R^2 score: {round(model.score(X_train, y_train),4)}')\n",
    "print(f'LR test R^2 score: {round(model.score(X_test, y_test),4)}')\n",
    "print(f'LR CrossVal score: {round(cross_val_score(model, X_train, y_train).mean(),8)}')\n",
    "\n",
    "MRSE = metrics.mean_squared_error(y_true=df_train['saleprice'], y_pred=model.predict(df_train[features] ))**.5\n",
    "print(f'Mean Root Square Error w/ all cols: {round(MRSE,2)}.')\n",
    "\n",
    "\n",
    "\n",
    "\n",
    "pred = model.predict(df_test[features])   # make predictions\n",
    "df_test['saleprice'] = pred               # add predictions to the test data"
   ]
  },
  {
   "cell_type": "code",
   "execution_count": 57,
   "id": "04160c96-c219-4f8d-8505-ee427ecca805",
   "metadata": {},
   "outputs": [],
   "source": [
    "# LR training R^2 score: 0.8853\n",
    "# LR test R^2 score: 0.9121\n",
    "# LR CrossVal score: 0.8298518\n",
    "# Mean Root Square Error w/ all cols: 26059.57."
   ]
  },
  {
   "cell_type": "code",
   "execution_count": 58,
   "id": "5aceda5d-5b03-4a72-8988-fb59e9798de0",
   "metadata": {},
   "outputs": [],
   "source": [
    "### PREDICTIONS BEFORE LOG\n",
    "\n",
    "# pred = model.predict(df_test[features])   # make predictions\n",
    "# df_test['saleprice'] = pred               # add predictions to the test data"
   ]
  },
  {
   "cell_type": "code",
   "execution_count": 59,
   "id": "94535595-5027-4cd3-bd4d-7c32787a9760",
   "metadata": {},
   "outputs": [
    {
     "name": "stdout",
     "output_type": "stream",
     "text": [
      "Log train score 0.9094909629215004\n",
      "Log test score 0.8828179456155364\n",
      "Mean Root Square Error w/ all cols: 198004.3.\n"
     ]
    }
   ],
   "source": [
    "## to do the log transformation....\n",
    "\n",
    "y_train_log = y_train.map(np.log)\n",
    "y_test_log = y_test.map(np.log)\n",
    "\n",
    "cross_val_score(model, X_train, y_train_log).mean()\n",
    "model.fit(X_train, y_train_log)\n",
    "\n",
    "print(f'Log train score {model.score(X_train, y_train_log)}')\n",
    "print(f'Log test score {model.score(X_test, y_test_log)}')\n",
    "\n",
    "MRSE = metrics.mean_squared_error(y_true=df_train['saleprice'], y_pred=model.predict(df_train[features] ))**.5\n",
    "print(f'Mean Root Square Error w/ all cols: {round(MRSE,2)}.')\n",
    "\n",
    "\n",
    "pred_test = model.predict(df_test[features])\n",
    "df_test['saleprice'] = np.exp(pred_test)\n"
   ]
  },
  {
   "cell_type": "code",
   "execution_count": 44,
   "id": "141b4cf7-aaa1-49a8-9dc4-349a01a6ca7a",
   "metadata": {},
   "outputs": [],
   "source": [
    "# Log train score 0.9128293650786863\n",
    "# Log test score 0.8745333564488338\n",
    "# Mean Root Square Error w/ all cols: 198004.3."
   ]
  },
  {
   "cell_type": "code",
   "execution_count": 45,
   "id": "718c9922-5f6d-49e6-8c84-cce3b919488e",
   "metadata": {},
   "outputs": [],
   "source": [
    "### PREDICTIONS AFTER LOG\n",
    "\n",
    "\n",
    "pred_test = model.predict(df_test[features])\n",
    "df_test['saleprice'] = np.exp(pred_test)\n"
   ]
  },
  {
   "cell_type": "code",
   "execution_count": null,
   "id": "edad3979-06bd-407d-95c8-c6b3e7e85e2a",
   "metadata": {},
   "outputs": [],
   "source": []
  },
  {
   "cell_type": "code",
   "execution_count": 46,
   "id": "40c24ce6-24bf-422a-a312-c0499c0ab546",
   "metadata": {},
   "outputs": [],
   "source": [
    "# ss = StandardScaler()\n",
    "# ss.fit(X)\n",
    "# X_scaled = ss.transform(X)\n",
    "# #X_scaled[:1, :]\n",
    "# Y_scaled = ss.transform(y)\n",
    "# #Y_scaled[:1, :]"
   ]
  },
  {
   "cell_type": "code",
   "execution_count": null,
   "id": "785372f4-f050-4820-be91-c668651be942",
   "metadata": {},
   "outputs": [],
   "source": []
  },
  {
   "cell_type": "code",
   "execution_count": null,
   "id": "c8db8316-0ad0-4f80-9aa9-0b53d66bb32c",
   "metadata": {},
   "outputs": [],
   "source": []
  },
  {
   "cell_type": "code",
   "execution_count": null,
   "id": "f196b325-4a26-48fc-a3b1-5b8f7a6c4ef8",
   "metadata": {},
   "outputs": [],
   "source": []
  },
  {
   "cell_type": "code",
   "execution_count": null,
   "id": "01c64455-479b-44ab-b0a7-a3b3f5ae7e6f",
   "metadata": {},
   "outputs": [],
   "source": []
  },
  {
   "cell_type": "code",
   "execution_count": null,
   "id": "5eff08ae-aa46-4a2a-b1f2-2e1147b9deda",
   "metadata": {},
   "outputs": [],
   "source": []
  },
  {
   "cell_type": "code",
   "execution_count": null,
   "id": "a2766e54-e2dd-4434-8cf8-810d5fd81f78",
   "metadata": {},
   "outputs": [],
   "source": []
  },
  {
   "cell_type": "code",
   "execution_count": 47,
   "id": "3e2942a3-7331-4fc9-93e2-41fafba98ce8",
   "metadata": {},
   "outputs": [],
   "source": [
    "# #X = df_train[features]\n",
    "\n",
    "# poly = PolynomialFeatures(include_bias=False)\n",
    "# X_poly = poly.fit_transform(X_train)\n",
    "# pd.DataFrame(X_poly, columns=poly.get_feature_names(features))\n",
    "\n",
    "# cross_val_score(model, X_poly, y_train_log, cv=5).mean()\n",
    "# #model.fit(X_train, y_train_log)"
   ]
  },
  {
   "cell_type": "code",
   "execution_count": null,
   "id": "6987c727-1fb4-4c5f-aaff-e53663982dbd",
   "metadata": {},
   "outputs": [],
   "source": []
  },
  {
   "cell_type": "code",
   "execution_count": null,
   "id": "97ceded3-bf78-4b14-9e96-d095970a4c6d",
   "metadata": {},
   "outputs": [],
   "source": []
  },
  {
   "cell_type": "code",
   "execution_count": null,
   "id": "50db6a21-9b55-469c-89dc-580203411b82",
   "metadata": {},
   "outputs": [],
   "source": []
  },
  {
   "cell_type": "code",
   "execution_count": null,
   "id": "aa0f357d-0afa-40b2-b0b8-71271118f0f7",
   "metadata": {},
   "outputs": [],
   "source": []
  },
  {
   "cell_type": "code",
   "execution_count": null,
   "id": "cc1a082f-25dc-4c4d-a74f-301b9ff9e202",
   "metadata": {},
   "outputs": [],
   "source": []
  },
  {
   "cell_type": "code",
   "execution_count": null,
   "id": "62ea446a-fa9f-4f1d-9086-b24566375308",
   "metadata": {},
   "outputs": [],
   "source": []
  },
  {
   "cell_type": "code",
   "execution_count": 48,
   "id": "d1bae036-52b0-46e5-8ba9-1d1d8c70d101",
   "metadata": {},
   "outputs": [],
   "source": [
    "submission = df_test[['id','saleprice']]"
   ]
  },
  {
   "cell_type": "code",
   "execution_count": 49,
   "id": "ecb69927-2cbf-44e1-bf11-463a3c862134",
   "metadata": {},
   "outputs": [],
   "source": [
    "submission.set_index('id', inplace = True)"
   ]
  },
  {
   "cell_type": "code",
   "execution_count": 50,
   "id": "1ad22946-02c0-43ca-969d-46a05f5111d9",
   "metadata": {},
   "outputs": [],
   "source": [
    "submission.to_csv('./datasets/submissions/submission22.csv')"
   ]
  },
  {
   "cell_type": "code",
   "execution_count": null,
   "id": "a8cf38b0-9df0-4c43-b01a-7eb1a6e51fed",
   "metadata": {},
   "outputs": [],
   "source": []
  },
  {
   "cell_type": "code",
   "execution_count": null,
   "id": "531d0eef-83e0-4a0a-adfc-0820f1772617",
   "metadata": {},
   "outputs": [],
   "source": []
  },
  {
   "cell_type": "code",
   "execution_count": null,
   "id": "6d1c4a84-63b6-44ed-a108-4e0278a065f0",
   "metadata": {},
   "outputs": [],
   "source": []
  },
  {
   "cell_type": "code",
   "execution_count": null,
   "id": "1671b864-f6ed-4b0f-b4c3-b46488fe63e4",
   "metadata": {},
   "outputs": [],
   "source": []
  }
 ],
 "metadata": {
  "kernelspec": {
   "display_name": "Python 3 (ipykernel)",
   "language": "python",
   "name": "python3"
  },
  "language_info": {
   "codemirror_mode": {
    "name": "ipython",
    "version": 3
   },
   "file_extension": ".py",
   "mimetype": "text/x-python",
   "name": "python",
   "nbconvert_exporter": "python",
   "pygments_lexer": "ipython3",
   "version": "3.9.7"
  }
 },
 "nbformat": 4,
 "nbformat_minor": 5
}
