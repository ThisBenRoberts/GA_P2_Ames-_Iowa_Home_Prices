{
 "cells": [
  {
   "cell_type": "code",
   "execution_count": 1,
   "id": "c43f6f4e-6562-4091-8b29-3255ec482660",
   "metadata": {},
   "outputs": [],
   "source": [
    "import matplotlib.pyplot as plt\n",
    "import pandas as pd\n",
    "import numpy as np\n",
    "import os\n",
    "import seaborn as sns\n",
    "from scipy import stats\n",
    "from sklearn import metrics\n",
    "from sklearn.linear_model import LinearRegression\n",
    "from sklearn.model_selection import train_test_split, cross_val_score\n",
    "\n",
    "pd.options.display.max_columns = 999  # Allos us to display all columns\n",
    "pd.options.display.max_rows = 999  # Allos us to display all columns\n",
    "\n",
    "df_train = pd.read_csv('./datasets/cleaned_train2.csv',keep_default_na=False)\n",
    "df_test = pd.read_csv('./datasets/cleaned_test2.csv',keep_default_na=False)\n",
    "\n",
    "df_train.columns = df_train.columns.str.lower() # column names to lower case\n",
    "df_test.columns = df_test.columns.str.lower() # column names to lower case"
   ]
  },
  {
   "cell_type": "code",
   "execution_count": null,
   "id": "e47f3136-b1b7-4e0c-8734-cadc8b4c27de",
   "metadata": {},
   "outputs": [],
   "source": []
  },
  {
   "cell_type": "code",
   "execution_count": null,
   "id": "8cc35343-8a3b-41b9-8e88-a2bb23a2d61c",
   "metadata": {},
   "outputs": [],
   "source": []
  },
  {
   "cell_type": "code",
   "execution_count": 2,
   "id": "3d97538d-9df7-4001-98a3-1cc563f83dac",
   "metadata": {},
   "outputs": [],
   "source": [
    "features = [\n",
    " 'overall qual',\n",
    " 'exter qual',\n",
    " 'gr liv area',\n",
    " 'kitchen qual',\n",
    " 'garage area',\n",
    " 'garage cars',\n",
    " 'total bsmt sf',\n",
    " '1st flr sf',\n",
    " 'bsmt qual',\n",
    " 'year built',\n",
    " 'garage finish',\n",
    " 'year remod/add',\n",
    " 'fireplace qu',\n",
    " 'full bath',\n",
    " 'foundation_pconc',\n",
    " 'totrms abvgrd',\n",
    " 'mas vnr area',\n",
    " 'fireplaces',\n",
    " 'heating qc',\n",
    " 'neighborhood_nridght',\n",
    " 'bsmtfin sf 1',\n",
    " 'exteriors',\n",
    " 'exterior 1st',\n",
    " 'mas vnr type_none',\n",
    " 'bsmt exposure',\n",
    " 'exterior 2nd',\n",
    " 'garage type_detchd',\n",
    " 'sale type_new',\n",
    " 'garage type_attchd',\n",
    " 'foundation_cblock',\n",
    " 'open porch sf',\n",
    " 'wood deck sf',\n",
    " 'lot frontage',\n",
    " 'mas vnr type_stone',\n",
    " 'lot area',\n",
    " 'lot shape',\n",
    " 'paved drive',\n",
    " 'garage qual',\n",
    " 'bsmt full bath',\n",
    " 'half bath',\n",
    " 'ms zoning_rm',\n",
    " 'central air',\n",
    " 'roof style_hip',\n",
    " 'garage cond',\n",
    " 'neighborhood_noridge',\n",
    " 'mas vnr type_brkface',\n",
    " 'neighborhood_stonebr',\n",
    " 'pid',\n",
    " 'roof style_gable',\n",
    " '2nd flr sf',\n",
    " 'electrical',\n",
    " 'ms zoning_rl',\n",
    " 'garage type_na',\n",
    " 'foundation_brktil',\n",
    " 'bsmt cond',\n",
    " 'garage type_builtin',\n",
    " 'conditions',\n",
    " 'sale type_wd ',\n",
    " 'land contour_hls',\n",
    " 'neighborhood_oldtown',\n",
    " 'condition 1',\n",
    " 'house style_2story',\n",
    " 'house style_1.5fin',\n",
    " 'bsmt unf sf',\n",
    " 'neighborhood_names',\n",
    " 'neighborhood_idotrr',\n",
    " 'neighborhood_edwards',\n",
    " 'lot config_culdsac',\n",
    " 'alley_2',\n",
    " 'fence',\n",
    " 'neighborhood_somerst',\n",
    " 'bedroom abvgr',\n",
    " 'enclosed porch',\n",
    " 'alley_0',\n",
    " 'neighborhood_brkside',\n",
    " 'screen porch',\n",
    " 'neighborhood_sawyer',\n",
    " 'condition 2',\n",
    " 'ms zoning_c (all)',\n",
    " 'functional',\n",
    " 'kitchen abvgr',\n",
    " 'foundation_slab',\n",
    " 'neighborhood_timber',\n",
    " 'bldg type_twnhs',\n",
    " 'neighborhood_meadowv',\n",
    " 'bldg type_2fmcon',\n",
    " 'sale type_cod',\n",
    " 'ms zoning_fv',\n",
    " 'bldg type_1fam',\n",
    " 'bldg type_duplex',\n",
    " 'roof matl_wdshngl',\n",
    " 'land contour_bnk',\n",
    " 'overall cond',\n",
    " 'neighborhood_brdale',\n",
    " 'heating_gasa',\n",
    " 'land contour_lvl',\n",
    " 'ms subclass',\n",
    " 'neighborhood_veenker',\n",
    " 'neighborhood_collgcr',\n",
    " 'lot config_inside',\n",
    " 'neighborhood_swisu',\n",
    " 'heating_grav']\n",
    " # 'garage type_carport',\n",
    "### 'heating_wall',\n",
    "#  'street',\n",
    "#  'roof matl_compshg',\n",
    "#  'house style_1.5unf',\n",
    "#  'house style_sfoyer',\n",
    "#  'bldg type_twnhse',\n",
    "#  'sale type_conld',\n",
    "#  'land slope',\n",
    "#  'neighborhood_crawfor',\n",
    "#  'garage type_basment',\n",
    "# ### 'ms zoning_a (agr)',\n",
    "#  'neighborhood_clearcr',\n",
    " # 'id',\n",
    " # '3ssn porch',\n",
    " # 'misc feature_na',\n",
    " # 'misc feature_shed',\n",
    " # 'neighborhood_npkvill',\n",
    " # 'roof matl_wdshake',\n",
    " # 'bsmt half bath',\n",
    " # 'house style_2.5fin',\n",
    " # 'house style_slvl',\n",
    " # 'roof style_gambrel',\n",
    " # 'low qual fin sf',\n",
    "### 'neighborhood_grnhill',\n",
    " # 'heating_gasw',\n",
    " # 'mas vnr type_brkcmn',\n",
    " # 'exter cond',\n",
    " # 'neighborhood_mitchel',\n",
    " # 'sale type_conlw',\n",
    " # 'neighborhood_nwames',\n",
    " # 'ms zoning_i (all)',\n",
    " # 'ms zoning_rh',\n",
    " # 'sale type_con',\n",
    " # 'land contour_low',\n",
    " # 'mo sold',\n",
    " # 'sale type_oth',\n",
    " # 'garage type_2types',\n",
    " # 'pool qc',\n",
    "#  'utilities',\n",
    "#  'neighborhood_blueste',\n",
    "#  'neighborhood_blmngtn',\n",
    "#  'neighborhood_gilbert',\n",
    "#  'foundation_stone',\n",
    "#  'pool area',\n",
    "# ### 'heating_othw',\n",
    "#  'house style_1story',\n",
    "#  'roof style_mansard',\n",
    "#  'sale type_conli',\n",
    "#  'misc feature_gar2',\n",
    "# ### 'misc feature_tenc',\n",
    "# ### 'roof matl_membran',\n",
    "#  'neighborhood_sawyerw',\n",
    "#  'bsmtfin sf 2',\n",
    "#  'yr sold',\n",
    "#  'lot config_fr2',\n",
    "#  'alley_1',\n",
    "#  'lot config_fr3',\n",
    "#  'roof style_shed',\n",
    "# ### 'neighborhood_landmrk',\n",
    "#  'house style_2.5unf',\n",
    "#  'roof style_flat',\n",
    "#  'misc feature_othr',\n",
    "#  'misc val',\n",
    "#  'roof matl_tar&grv',\n",
    "# ### 'roof matl_clytile',\n",
    "#  'lot config_corner',\n",
    "#  'sale type_cwd',\n",
    "#  'neighborhood_greens',\n",
    "#  'foundation_wood',\n",
    "### 'misc feature_elev'\n",
    "\n",
    "\n",
    "\n",
    "\n",
    "\n",
    "\n",
    "\n",
    "X = df_train[features]\n",
    "y=df_train['saleprice']"
   ]
  },
  {
   "cell_type": "code",
   "execution_count": 3,
   "id": "6beb3fb1-88ea-44cb-9fee-9d77611c4150",
   "metadata": {},
   "outputs": [
    {
     "name": "stdout",
     "output_type": "stream",
     "text": [
      "0.8816185124279009\n",
      "0.9108262814373789\n"
     ]
    },
    {
     "data": {
      "text/plain": [
       "0.8400150414791085"
      ]
     },
     "execution_count": 3,
     "metadata": {},
     "output_type": "execute_result"
    }
   ],
   "source": [
    "model = LinearRegression()\n",
    "model.fit(X,y)\n",
    "X_train, X_test, y_train, y_test = train_test_split(X,y, random_state=42) \n",
    "print( model.score(X_train, y_train))\n",
    "print( model.score(X_test, y_test))\n",
    "\n",
    "cross_val_score(model, X_train, y_train).mean()"
   ]
  },
  {
   "cell_type": "code",
   "execution_count": 4,
   "id": "04160c96-c219-4f8d-8505-ee427ecca805",
   "metadata": {},
   "outputs": [
    {
     "data": {
      "text/plain": [
       "0.8442579805223513"
      ]
     },
     "execution_count": 4,
     "metadata": {},
     "output_type": "execute_result"
    }
   ],
   "source": [
    "0.8934689139456496\n",
    "0.9157827829566405\n",
    "0.8442579805223513"
   ]
  },
  {
   "cell_type": "code",
   "execution_count": null,
   "id": "ea18c266-0524-498e-b10e-e7a1f76c3b32",
   "metadata": {},
   "outputs": [],
   "source": []
  },
  {
   "cell_type": "code",
   "execution_count": null,
   "id": "a7ef5d45-a9bc-4854-a975-951b71a19778",
   "metadata": {},
   "outputs": [],
   "source": []
  },
  {
   "cell_type": "code",
   "execution_count": 5,
   "id": "3c845598-0f71-42f7-9f6d-a4029bb18c45",
   "metadata": {},
   "outputs": [],
   "source": [
    "###      https://stackoverflow.com/questions/8371887/making-all-possible-combinations-of-a-list\n",
    "\n",
    "# import itertools\n",
    "# list_test = [\n",
    "#      'overall qual',\n",
    "#  'exter qual',\n",
    "#  'gr liv area',\n",
    "#  'kitchen qual',\n",
    "#  'garage area',\n",
    "#  'garage cars',\n",
    "#  'total bsmt sf',\n",
    "#  '1st flr sf',\n",
    "#  'bsmt qual',\n",
    "#  'year built',\n",
    "#  'garage finish',\n",
    "#  'year remod/add',\n",
    "#  'fireplace qu',\n",
    "#  'full bath',\n",
    "\n",
    "# ]\n",
    "# combs = []\n",
    "\n",
    "# for i in range(1, len(list_test)+1):\n",
    "#     els = [list(x) for x in itertools.combinations(list_test, i)]\n",
    "#     combs.extend(els)\n",
    "    \n",
    "# len(combs)    "
   ]
  },
  {
   "cell_type": "code",
   "execution_count": null,
   "id": "775339c7-f4a9-419f-9eda-d2e1c19d2356",
   "metadata": {},
   "outputs": [],
   "source": []
  },
  {
   "cell_type": "code",
   "execution_count": null,
   "id": "def886de-ca9b-4330-9cb4-8b7f0b8f30fc",
   "metadata": {},
   "outputs": [],
   "source": []
  },
  {
   "cell_type": "code",
   "execution_count": null,
   "id": "3e1c3a2c-5741-457f-8d89-45c1c0de66f3",
   "metadata": {},
   "outputs": [],
   "source": []
  },
  {
   "cell_type": "code",
   "execution_count": null,
   "id": "344b76a0-f9dc-425a-b462-9b054fa99c65",
   "metadata": {},
   "outputs": [],
   "source": []
  },
  {
   "cell_type": "code",
   "execution_count": null,
   "id": "1ca4564d-e88e-4dfa-b584-62df4c3fb9a6",
   "metadata": {},
   "outputs": [],
   "source": []
  },
  {
   "cell_type": "code",
   "execution_count": 6,
   "id": "a4867038-a527-4a47-bd97-751388f33f5c",
   "metadata": {},
   "outputs": [],
   "source": [
    "pred = model.predict(df_test[features])   # make predictions\n",
    "df_test['saleprice'] = pred               # add predictions to the test data\n"
   ]
  },
  {
   "cell_type": "code",
   "execution_count": null,
   "id": "d4317bb6-216e-4e8b-a1c1-6c2acb33a77e",
   "metadata": {},
   "outputs": [],
   "source": []
  },
  {
   "cell_type": "code",
   "execution_count": 7,
   "id": "8d1211ae-6b51-4182-a588-36b96ca7bf43",
   "metadata": {},
   "outputs": [],
   "source": [
    "#  np.sqrt(metrics.mean_squared_error(y, pred)) "
   ]
  },
  {
   "cell_type": "code",
   "execution_count": null,
   "id": "718c9922-5f6d-49e6-8c84-cce3b919488e",
   "metadata": {},
   "outputs": [],
   "source": []
  },
  {
   "cell_type": "code",
   "execution_count": 8,
   "id": "d1bae036-52b0-46e5-8ba9-1d1d8c70d101",
   "metadata": {},
   "outputs": [],
   "source": [
    "submission = df_test[['id','saleprice']]"
   ]
  },
  {
   "cell_type": "code",
   "execution_count": 9,
   "id": "ecb69927-2cbf-44e1-bf11-463a3c862134",
   "metadata": {},
   "outputs": [],
   "source": [
    "submission.set_index('id', inplace = True)"
   ]
  },
  {
   "cell_type": "code",
   "execution_count": 10,
   "id": "1ad22946-02c0-43ca-969d-46a05f5111d9",
   "metadata": {},
   "outputs": [],
   "source": [
    "submission.to_csv('./datasets/submissions/submission12.csv')"
   ]
  },
  {
   "cell_type": "code",
   "execution_count": null,
   "id": "a8cf38b0-9df0-4c43-b01a-7eb1a6e51fed",
   "metadata": {},
   "outputs": [],
   "source": []
  },
  {
   "cell_type": "code",
   "execution_count": null,
   "id": "531d0eef-83e0-4a0a-adfc-0820f1772617",
   "metadata": {},
   "outputs": [],
   "source": []
  },
  {
   "cell_type": "code",
   "execution_count": null,
   "id": "6d1c4a84-63b6-44ed-a108-4e0278a065f0",
   "metadata": {},
   "outputs": [],
   "source": []
  },
  {
   "cell_type": "code",
   "execution_count": null,
   "id": "1671b864-f6ed-4b0f-b4c3-b46488fe63e4",
   "metadata": {},
   "outputs": [],
   "source": []
  }
 ],
 "metadata": {
  "kernelspec": {
   "display_name": "Python 3 (ipykernel)",
   "language": "python",
   "name": "python3"
  },
  "language_info": {
   "codemirror_mode": {
    "name": "ipython",
    "version": 3
   },
   "file_extension": ".py",
   "mimetype": "text/x-python",
   "name": "python",
   "nbconvert_exporter": "python",
   "pygments_lexer": "ipython3",
   "version": "3.9.7"
  }
 },
 "nbformat": 4,
 "nbformat_minor": 5
}
