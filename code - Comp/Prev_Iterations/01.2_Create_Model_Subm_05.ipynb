{
 "cells": [
  {
   "cell_type": "code",
   "execution_count": 2,
   "id": "c43f6f4e-6562-4091-8b29-3255ec482660",
   "metadata": {},
   "outputs": [],
   "source": [
    "import matplotlib.pyplot as plt\n",
    "import pandas as pd\n",
    "import numpy as np\n",
    "import os\n",
    "import seaborn as sns\n",
    "from scipy import stats\n",
    "from sklearn import metrics\n",
    "from sklearn.linear_model import LinearRegression\n",
    "from sklearn.model_selection import train_test_split, cross_val_score\n",
    "\n",
    "pd.options.display.max_columns = 999  # Allos us to display all columns\n",
    "pd.options.display.max_rows = 999  # Allos us to display all columns\n",
    "\n",
    "df_train = pd.read_csv('./datasets/cleaned_train.csv',keep_default_na=False)\n",
    "df_test = pd.read_csv('./datasets/cleaned_test.csv',keep_default_na=False)\n",
    "\n",
    "df_test.columns = df_test.columns.str.lower() # column names to lower case"
   ]
  },
  {
   "cell_type": "code",
   "execution_count": 4,
   "id": "5837714e-39a3-4817-b955-810254c8672a",
   "metadata": {},
   "outputs": [],
   "source": [
    "# \tsaleprice\n",
    "# saleprice\t1.000000\n",
    "# overall qual\t0.800207\n",
    "# exter qual\t0.712146\n",
    "# gr liv area\t0.697038\n",
    "# kitchen qual\t0.692336\n",
    "# garage area\t0.649897\n",
    "# garage cars\t0.647781\n",
    "# 1st flr sf\t0.618486\n",
    "# year built\t0.571849\n",
    "# year remod/add\t0.550370\n",
    "# fireplace qu\t0.538925\n",
    "# full bath\t0.537969\n",
    "# totrms abvgrd\t0.504014\n",
    "# mas vnr area\t0.503579\n",
    "# fireplaces\t0.471093"
   ]
  },
  {
   "cell_type": "code",
   "execution_count": 5,
   "id": "3d97538d-9df7-4001-98a3-1cc563f83dac",
   "metadata": {},
   "outputs": [],
   "source": [
    "features = ['overall qual','exter qual','gr liv area','kitchen qual','garage area','garage cars','1st flr sf','year built','year remod/add','fireplace qu','full bath','totrms abvgrd','mas vnr area','fireplaces','bsmtfin sf 1','open porch sf']\n",
    "X = df_train[features]\n",
    "y=df_train['saleprice']"
   ]
  },
  {
   "cell_type": "code",
   "execution_count": 6,
   "id": "6beb3fb1-88ea-44cb-9fee-9d77611c4150",
   "metadata": {},
   "outputs": [
    {
     "data": {
      "text/plain": [
       "LinearRegression()"
      ]
     },
     "execution_count": 6,
     "metadata": {},
     "output_type": "execute_result"
    }
   ],
   "source": [
    "model = LinearRegression()\n",
    "model.fit(X,y)"
   ]
  },
  {
   "cell_type": "code",
   "execution_count": 7,
   "id": "96f3cc8d-d2b5-481c-8c3c-5623744f5f2a",
   "metadata": {},
   "outputs": [
    {
     "name": "stdout",
     "output_type": "stream",
     "text": [
      "0.8093914058511607 0.8742014914829295\n"
     ]
    },
    {
     "data": {
      "text/plain": [
       "0.7833844794995789"
      ]
     },
     "execution_count": 7,
     "metadata": {},
     "output_type": "execute_result"
    }
   ],
   "source": [
    "X_train, X_test, y_train, y_test = train_test_split(X,y, random_state=42) \n",
    "print( model.score(X_train, y_train), model.score(X_test, y_test))\n",
    "\n",
    "cross_val_score(model, X_train, y_train).mean()"
   ]
  },
  {
   "cell_type": "code",
   "execution_count": 8,
   "id": "a4867038-a527-4a47-bd97-751388f33f5c",
   "metadata": {},
   "outputs": [],
   "source": [
    "pred = model.predict(df_test[features])   # make predictions\n",
    "df_test['saleprice'] = pred               # add predictions to the test data\n"
   ]
  },
  {
   "cell_type": "code",
   "execution_count": null,
   "id": "d4317bb6-216e-4e8b-a1c1-6c2acb33a77e",
   "metadata": {},
   "outputs": [],
   "source": []
  },
  {
   "cell_type": "code",
   "execution_count": 9,
   "id": "8d1211ae-6b51-4182-a588-36b96ca7bf43",
   "metadata": {},
   "outputs": [],
   "source": [
    "#  np.sqrt(metrics.mean_squared_error(y, pred)) "
   ]
  },
  {
   "cell_type": "code",
   "execution_count": null,
   "id": "718c9922-5f6d-49e6-8c84-cce3b919488e",
   "metadata": {},
   "outputs": [],
   "source": []
  },
  {
   "cell_type": "code",
   "execution_count": 11,
   "id": "d1bae036-52b0-46e5-8ba9-1d1d8c70d101",
   "metadata": {},
   "outputs": [],
   "source": [
    "submission = df_test[['id','saleprice']]"
   ]
  },
  {
   "cell_type": "code",
   "execution_count": 12,
   "id": "ecb69927-2cbf-44e1-bf11-463a3c862134",
   "metadata": {},
   "outputs": [],
   "source": [
    "submission.set_index('id', inplace = True)"
   ]
  },
  {
   "cell_type": "code",
   "execution_count": 10,
   "id": "1ad22946-02c0-43ca-969d-46a05f5111d9",
   "metadata": {},
   "outputs": [
    {
     "ename": "NameError",
     "evalue": "name 'submission' is not defined",
     "output_type": "error",
     "traceback": [
      "\u001b[1;31m---------------------------------------------------------------------------\u001b[0m",
      "\u001b[1;31mNameError\u001b[0m                                 Traceback (most recent call last)",
      "\u001b[1;32m~\\AppData\\Local\\Temp/ipykernel_36236/1170902930.py\u001b[0m in \u001b[0;36m<module>\u001b[1;34m\u001b[0m\n\u001b[1;32m----> 1\u001b[1;33m \u001b[0msubmission\u001b[0m\u001b[1;33m.\u001b[0m\u001b[0mto_csv\u001b[0m\u001b[1;33m(\u001b[0m\u001b[1;34m'./datasets/submissions/submission6.csv'\u001b[0m\u001b[1;33m)\u001b[0m\u001b[1;33m\u001b[0m\u001b[1;33m\u001b[0m\u001b[0m\n\u001b[0m",
      "\u001b[1;31mNameError\u001b[0m: name 'submission' is not defined"
     ]
    }
   ],
   "source": [
    "submission.to_csv('./datasets/submissions/submission6.csv')"
   ]
  },
  {
   "cell_type": "code",
   "execution_count": 455,
   "id": "a8cf38b0-9df0-4c43-b01a-7eb1a6e51fed",
   "metadata": {},
   "outputs": [],
   "source": []
  },
  {
   "cell_type": "code",
   "execution_count": null,
   "id": "531d0eef-83e0-4a0a-adfc-0820f1772617",
   "metadata": {},
   "outputs": [],
   "source": []
  },
  {
   "cell_type": "code",
   "execution_count": null,
   "id": "6d1c4a84-63b6-44ed-a108-4e0278a065f0",
   "metadata": {},
   "outputs": [],
   "source": []
  },
  {
   "cell_type": "code",
   "execution_count": null,
   "id": "1671b864-f6ed-4b0f-b4c3-b46488fe63e4",
   "metadata": {},
   "outputs": [],
   "source": []
  }
 ],
 "metadata": {
  "kernelspec": {
   "display_name": "Python 3 (ipykernel)",
   "language": "python",
   "name": "python3"
  },
  "language_info": {
   "codemirror_mode": {
    "name": "ipython",
    "version": 3
   },
   "file_extension": ".py",
   "mimetype": "text/x-python",
   "name": "python",
   "nbconvert_exporter": "python",
   "pygments_lexer": "ipython3",
   "version": "3.9.7"
  }
 },
 "nbformat": 4,
 "nbformat_minor": 5
}
